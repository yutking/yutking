{
 "cells": [
  {
   "cell_type": "markdown",
   "source": [
    "# Юткин Григорий\n",
    "\n",
    "### Прослушал в записи прошлую лекцию"
   ],
   "metadata": {}
  },
  {
   "cell_type": "code",
   "execution_count": 126,
   "source": [
    "#Imports (no exteral deps need)\n",
    "# Run on python3.9.7\n",
    "import math\n",
    "import re\n",
    "from collections import Counter"
   ],
   "outputs": [],
   "metadata": {}
  },
  {
   "cell_type": "markdown",
   "source": [
    "# Задание 2,3"
   ],
   "metadata": {}
  },
  {
   "cell_type": "code",
   "execution_count": 127,
   "source": [
    "# Init state\n",
    "doc1 = 'Шла Саша по шоссе'\n",
    "doc2 = 'Саша живет в соседнем дворе'\n",
    "doc3 = 'Саша упала с дерева'\n",
    "doc4 = 'Саша - это имя моего брата'\n",
    "\n",
    "original_docs_arr = [doc1,doc2,doc3,doc4]\n",
    "docs_arr = [ doc.lower() for doc in original_docs_arr]\n",
    "words_space_splited = [ x.split() for x in docs_arr]"
   ],
   "outputs": [],
   "metadata": {}
  },
  {
   "cell_type": "markdown",
   "source": [],
   "metadata": {}
  },
  {
   "cell_type": "code",
   "execution_count": 128,
   "source": [
    "def calculate_tf(text_arr):\n",
    "    tf_text = Counter(text_arr)\n",
    "    for i in tf_text:\n",
    "        tf_text[i] = tf_text[i]/float(len(text_arr))\n",
    "    return tf_text\n",
    "\n",
    "def calculate_idf(word, words_arr, log_number):\n",
    "        if log_number == '1e':\n",
    "            return math.log(1 + len(words_arr)/sum([1.0 for i in words_arr if word in i]), math.e)\n",
    "        else:\n",
    "            return math.log(len(words_arr)/sum([1.0 for i in words_arr if word in i]), log_number)\n",
    "\n",
    "def calculate_tfidf(text_arr, log_number):\n",
    "    documents_list = []\n",
    "    for text in text_arr:\n",
    "        tf_idf_dictionary = {}\n",
    "        computed_tf = calculate_tf(text)\n",
    "        for word in computed_tf:\n",
    "            tf_idf_dictionary[word] = computed_tf[word] * calculate_idf(word, text_arr, log_number)\n",
    "        documents_list.append(tf_idf_dictionary)\n",
    "    return documents_list"
   ],
   "outputs": [],
   "metadata": {}
  },
  {
   "cell_type": "code",
   "execution_count": 129,
   "source": [
    "tfidf_with_log = calculate_tfidf(words_space_splited, math.e)\n",
    "tfidf_with_log_2 = calculate_tfidf(words_space_splited, 2)\n",
    "tfidf_with_log_10 = calculate_tfidf(words_space_splited, 10)\n",
    "tfidf_with_log_1p = calculate_tfidf(words_space_splited, '1e')\n",
    "\n",
    "print('Log e')\n",
    "print(tfidf_with_log)\n",
    "print('')\n",
    "\n",
    "print('Log 2')\n",
    "print(tfidf_with_log_2)\n",
    "print('')\n",
    "\n",
    "print('Log 10')\n",
    "print(tfidf_with_log_10)\n",
    "print('')\n",
    "\n",
    "print('Log 1p')\n",
    "print(tfidf_with_log_1p)\n"
   ],
   "outputs": [
    {
     "output_type": "stream",
     "name": "stdout",
     "text": [
      "Log e\n",
      "[{'шла': 0.34657359027997264, 'саша': 0.0, 'по': 0.34657359027997264, 'шоссе': 0.34657359027997264}, {'саша': 0.0, 'живет': 0.2772588722239781, 'в': 0.2772588722239781, 'соседнем': 0.2772588722239781, 'дворе': 0.2772588722239781}, {'саша': 0.0, 'упала': 0.34657359027997264, 'с': 0.34657359027997264, 'дерева': 0.34657359027997264}, {'саша': 0.0, '-': 0.23104906018664842, 'это': 0.23104906018664842, 'имя': 0.23104906018664842, 'моего': 0.23104906018664842, 'брата': 0.23104906018664842}]\n",
      "\n",
      "Log 2\n",
      "[{'шла': 0.5, 'саша': 0.0, 'по': 0.5, 'шоссе': 0.5}, {'саша': 0.0, 'живет': 0.4, 'в': 0.4, 'соседнем': 0.4, 'дворе': 0.4}, {'саша': 0.0, 'упала': 0.5, 'с': 0.5, 'дерева': 0.5}, {'саша': 0.0, '-': 0.3333333333333333, 'это': 0.3333333333333333, 'имя': 0.3333333333333333, 'моего': 0.3333333333333333, 'брата': 0.3333333333333333}]\n",
      "\n",
      "Log 10\n",
      "[{'шла': 0.15051499783199057, 'саша': 0.0, 'по': 0.15051499783199057, 'шоссе': 0.15051499783199057}, {'саша': 0.0, 'живет': 0.12041199826559246, 'в': 0.12041199826559246, 'соседнем': 0.12041199826559246, 'дворе': 0.12041199826559246}, {'саша': 0.0, 'упала': 0.15051499783199057, 'с': 0.15051499783199057, 'дерева': 0.15051499783199057}, {'саша': 0.0, '-': 0.10034333188799371, 'это': 0.10034333188799371, 'имя': 0.10034333188799371, 'моего': 0.10034333188799371, 'брата': 0.10034333188799371}]\n",
      "\n",
      "Log 1p\n",
      "[{'шла': 0.40235947810852507, 'саша': 0.17328679513998632, 'по': 0.40235947810852507, 'шоссе': 0.40235947810852507}, {'саша': 0.13862943611198905, 'живет': 0.3218875824868201, 'в': 0.3218875824868201, 'соседнем': 0.3218875824868201, 'дворе': 0.3218875824868201}, {'саша': 0.17328679513998632, 'упала': 0.40235947810852507, 'с': 0.40235947810852507, 'дерева': 0.40235947810852507}, {'саша': 0.11552453009332421, '-': 0.26823965207235, 'это': 0.26823965207235, 'имя': 0.26823965207235, 'моего': 0.26823965207235, 'брата': 0.26823965207235}]\n"
     ]
    }
   ],
   "metadata": {}
  },
  {
   "cell_type": "markdown",
   "source": [
    "### Во всех вариантах log кроме 1+x (по основанию e) результат всех вхождений Саша = 0.0\n",
    "\n",
    "Если мы хотим максимально точно вычислить вес слова \"Саша\" в последнем документе (doc4) самым показательным будет `tfidf_with_log_1p`\n",
    "\n",
    "### TFIDF слова \"Саша\" в doc4 = 0.11552453009332421"
   ],
   "metadata": {}
  },
  {
   "cell_type": "markdown",
   "source": [
    "# Задание 4"
   ],
   "metadata": {}
  },
  {
   "cell_type": "code",
   "execution_count": 130,
   "source": [
    "WORD = re.compile(r\"\\w+\")\n",
    "\n",
    "def string_to_vector(text):\n",
    "    words = WORD.findall(text)\n",
    "    return Counter(words)\n",
    "\n",
    "def get_cosine_distance(vec1, vec2):\n",
    "    intersection = set(vec1.keys()) & set(vec2.keys())\n",
    "    numerator = sum([vec1[x] * vec2[x] for x in intersection])\n",
    "\n",
    "    sum1 = sum([vec1[x] ** 2 for x in list(vec1.keys())])\n",
    "    sum2 = sum([vec2[x] ** 2 for x in list(vec2.keys())])\n",
    "    denominator = math.sqrt(sum1) * math.sqrt(sum2)\n",
    "\n",
    "    if not denominator:\n",
    "        return 0.0\n",
    "    else:\n",
    "        return float(numerator) / denominator\n",
    "\n",
    "\n",
    "doc1_vector = string_to_vector(doc1)\n",
    "doc2_vector = string_to_vector(doc2)\n",
    "\n",
    "cosine = get_cosine_distance(doc1_vector, doc2_vector)\n",
    "\n",
    "# Результат\n",
    "print(\"Doc1 vector\", doc1_vector)\n",
    "print(\"Doc1 vector\", doc2_vector)\n",
    "print(\"Cosine distance:\", cosine)"
   ],
   "outputs": [
    {
     "output_type": "stream",
     "name": "stdout",
     "text": [
      "Doc1 vector Counter({'Шла': 1, 'Саша': 1, 'по': 1, 'шоссе': 1})\n",
      "Doc1 vector Counter({'Саша': 1, 'живет': 1, 'в': 1, 'соседнем': 1, 'дворе': 1})\n",
      "Cosine distance: 0.22360679774997896\n"
     ]
    }
   ],
   "metadata": {}
  },
  {
   "cell_type": "markdown",
   "source": [
    "# Задание 5"
   ],
   "metadata": {}
  },
  {
   "cell_type": "code",
   "execution_count": 131,
   "source": [
    "string1 = 'abdef'\n",
    "string2 = 'dev'\n",
    "\n",
    "def edit_distance(s1, s2):\n",
    "    if len(s1) > len(s2):\n",
    "        s1, s2 = s2, s1\n",
    "\n",
    "    distances = range(len(s1) + 1)\n",
    "    for i2, c2 in enumerate(s2):\n",
    "        distances_ = [i2+1]\n",
    "        for i1, c1 in enumerate(s1):\n",
    "            if c1 == c2:\n",
    "                distances_.append(distances[i1])\n",
    "            else:\n",
    "                distances_.append(1 + min((distances[i1], distances[i1 + 1], distances_[-1])))\n",
    "        distances = distances_\n",
    "    return distances[-1]\n",
    "\n",
    "print(\"Edit distance is\", edit_distance(string1, string2))"
   ],
   "outputs": [
    {
     "output_type": "stream",
     "name": "stdout",
     "text": [
      "Edit distance is 3\n"
     ]
    }
   ],
   "metadata": {}
  },
  {
   "cell_type": "markdown",
   "source": [
    "# Задание 6\n",
    "\n",
    "По определению\n",
    "\n",
    "Расстояние Хемминга (Hamming Distance) – число позиций, в которых соответствующие символы двух слов одинаковой длины различны.\n",
    "\n",
    "Длина слов в задании 5, различна (5 символов, и 3 соотвественно), поэтому по определнию расстояния Хемминга считать его в этом случае нельзя"
   ],
   "metadata": {}
  },
  {
   "cell_type": "markdown",
   "source": [
    "---\n",
    "Но чтобы было не скучно, давайте посчитаем для других строк\n"
   ],
   "metadata": {}
  },
  {
   "cell_type": "code",
   "execution_count": 132,
   "source": [
    "def hamming_distance(str1, str2, prevMin=None):\n",
    "    diffs = 0\n",
    "    if len(str1) != len(str2):\n",
    "        return max(len(str1),len(str2))\n",
    "    for ch1, ch2 in zip(str1, str2):\n",
    "        if ch1 != ch2:\n",
    "            diffs += 1\n",
    "            if prevMin is not None and diffs > prevMin:\n",
    "                return None\n",
    "    return diffs\n",
    "\n",
    "h_sting1 = 'ddenv'\n",
    "h_sting2 = 'edenv'\n",
    "print(hamming_distance(h_sting1, h_sting2))\n",
    "\n",
    "\n",
    "h_sting3 = 'ddddd'\n",
    "h_sting4 = 'eeeee'\n",
    "print(hamming_distance(h_sting3, h_sting4))\n",
    "\n",
    "h_sting5 = 'ezykl'\n",
    "h_sting6 = 'ezyab'\n",
    "print(hamming_distance(h_sting5, h_sting6))\n",
    "\n",
    "\n"
   ],
   "outputs": [
    {
     "output_type": "stream",
     "name": "stdout",
     "text": [
      "1\n",
      "5\n",
      "2\n"
     ]
    }
   ],
   "metadata": {}
  }
 ],
 "metadata": {
  "interpreter": {
   "hash": "916dbcbb3f70747c44a77c7bcd40155683ae19c65e1c03b4aa3499c5328201f1"
  },
  "kernelspec": {
   "display_name": "Python 3 (ipykernel)",
   "language": "python",
   "name": "python3"
  },
  "language_info": {
   "codemirror_mode": {
    "name": "ipython",
    "version": 3
   },
   "file_extension": ".py",
   "mimetype": "text/x-python",
   "name": "python",
   "nbconvert_exporter": "python",
   "pygments_lexer": "ipython3",
   "version": "3.9.7"
  }
 },
 "nbformat": 4,
 "nbformat_minor": 2
}
